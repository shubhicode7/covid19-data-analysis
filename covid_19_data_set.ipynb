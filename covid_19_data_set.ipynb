{
  "nbformat": 4,
  "nbformat_minor": 0,
  "metadata": {
    "colab": {
      "provenance": [],
      "authorship_tag": "ABX9TyPYGHCkp1/Kn7MA8AqjcfBv",
      "include_colab_link": true
    },
    "kernelspec": {
      "name": "python3",
      "display_name": "Python 3"
    },
    "language_info": {
      "name": "python"
    }
  },
  "cells": [
    {
      "cell_type": "markdown",
      "metadata": {
        "id": "view-in-github",
        "colab_type": "text"
      },
      "source": [
        "<a href=\"https://colab.research.google.com/github/shubhicode7/covid19-data-analysis/blob/main/covid_19_data_set.ipynb\" target=\"_parent\"><img src=\"https://colab.research.google.com/assets/colab-badge.svg\" alt=\"Open In Colab\"/></a>"
      ]
    },
    {
      "cell_type": "markdown",
      "source": [
        "#Task 1"
      ],
      "metadata": {
        "id": "L6tcyUTKYapL"
      }
    },
    {
      "cell_type": "markdown",
      "source": [
        "#Covid 19 data set\n"
      ],
      "metadata": {
        "id": "xA0F9WJKT_Eg"
      }
    },
    {
      "cell_type": "code",
      "source": [
        "# pyspark_script.py\n",
        "\n",
        "from pyspark.sql import SparkSession\n",
        "from pyspark.sql.functions import col, sum, max, min, avg, to_date"
      ],
      "metadata": {
        "id": "TkbPKY4gUHEc"
      },
      "execution_count": null,
      "outputs": []
    },
    {
      "cell_type": "markdown",
      "source": [
        "1. Start Spark Session"
      ],
      "metadata": {
        "id": "sgVASGBKURaL"
      }
    },
    {
      "cell_type": "code",
      "source": [
        "spark = SparkSession.builder \\\n",
        "    .appName(\"Big Data Analysis - CODTECH Internship\") \\\n",
        "    .getOrCreate()"
      ],
      "metadata": {
        "id": "6jRuoha4UPyA"
      },
      "execution_count": null,
      "outputs": []
    },
    {
      "cell_type": "markdown",
      "source": [
        " 2. Load the Dataset"
      ],
      "metadata": {
        "id": "Dt8QXwE9UmHb"
      }
    },
    {
      "cell_type": "code",
      "source": [
        "df = spark.read.csv(\"/content/complete.csv\", header=True, inferSchema=True)"
      ],
      "metadata": {
        "id": "766ycdgJUseJ"
      },
      "execution_count": null,
      "outputs": []
    },
    {
      "cell_type": "markdown",
      "source": [
        "3. Basic Cleanup: Fix date and data types"
      ],
      "metadata": {
        "id": "LaAH1Qd8U3nd"
      }
    },
    {
      "cell_type": "code",
      "source": [
        "df = df.withColumn(\"Date\", to_date(col(\"Date\"), \"yyyy-MM-dd\"))\n",
        "df = df.withColumn(\"Death\", col(\"Death\").cast(\"int\"))"
      ],
      "metadata": {
        "id": "cfmk6iI-U9pF"
      },
      "execution_count": null,
      "outputs": []
    },
    {
      "cell_type": "markdown",
      "source": [
        " 4. Show Schema and Initial Data"
      ],
      "metadata": {
        "id": "F0BmUtRIVAVP"
      }
    },
    {
      "cell_type": "code",
      "source": [
        "df.printSchema()\n",
        "df.show(5)"
      ],
      "metadata": {
        "colab": {
          "base_uri": "https://localhost:8080/"
        },
        "id": "bVEs4mWCVDgJ",
        "outputId": "7279f149-1f0a-479c-bf20-a87fdba91792"
      },
      "execution_count": null,
      "outputs": [
        {
          "output_type": "stream",
          "name": "stdout",
          "text": [
            "root\n",
            " |-- Date: date (nullable = true)\n",
            " |-- Name of State / UT: string (nullable = true)\n",
            " |-- Latitude: double (nullable = true)\n",
            " |-- Longitude: double (nullable = true)\n",
            " |-- Total Confirmed cases: double (nullable = true)\n",
            " |-- Death: integer (nullable = true)\n",
            " |-- Cured/Discharged/Migrated: double (nullable = true)\n",
            " |-- New cases: integer (nullable = true)\n",
            " |-- New deaths: integer (nullable = true)\n",
            " |-- New recovered: integer (nullable = true)\n",
            "\n",
            "+----------+------------------+--------+---------+---------------------+-----+-------------------------+---------+----------+-------------+\n",
            "|      Date|Name of State / UT|Latitude|Longitude|Total Confirmed cases|Death|Cured/Discharged/Migrated|New cases|New deaths|New recovered|\n",
            "+----------+------------------+--------+---------+---------------------+-----+-------------------------+---------+----------+-------------+\n",
            "|2020-01-30|            Kerala| 10.8505|  76.2711|                  1.0|    0|                      0.0|        0|         0|            0|\n",
            "|2020-01-31|            Kerala| 10.8505|  76.2711|                  1.0|    0|                      0.0|        0|         0|            0|\n",
            "|2020-02-01|            Kerala| 10.8505|  76.2711|                  2.0|    0|                      0.0|        1|         0|            0|\n",
            "|2020-02-02|            Kerala| 10.8505|  76.2711|                  3.0|    0|                      0.0|        1|         0|            0|\n",
            "|2020-02-03|            Kerala| 10.8505|  76.2711|                  3.0|    0|                      0.0|        0|         0|            0|\n",
            "+----------+------------------+--------+---------+---------------------+-----+-------------------------+---------+----------+-------------+\n",
            "only showing top 5 rows\n",
            "\n"
          ]
        }
      ]
    },
    {
      "cell_type": "markdown",
      "source": [
        "5. Aggregation: Total Cases, Deaths, Recoveries per State"
      ],
      "metadata": {
        "id": "TSo9cZIRVTds"
      }
    },
    {
      "cell_type": "code",
      "source": [
        "summary_df = df.groupBy(\"Name of State / UT\").agg(\n",
        "    sum(\"Total Confirmed cases\").alias(\"Total Confirmed\"),\n",
        "    sum(\"Death\").alias(\"Total Deaths\"),\n",
        "    sum(\"Cured/Discharged/Migrated\").alias(\"Total Recovered\")\n",
        ").orderBy(col(\"Total Confirmed\").desc())\n",
        "\n",
        "summary_df.show(10)"
      ],
      "metadata": {
        "colab": {
          "base_uri": "https://localhost:8080/"
        },
        "id": "JfoN_uyCVO70",
        "outputId": "c28447c4-6264-412e-a7d3-a53a2f17df16"
      },
      "execution_count": null,
      "outputs": [
        {
          "output_type": "stream",
          "name": "stdout",
          "text": [
            "+------------------+---------------+------------+---------------+\n",
            "|Name of State / UT|Total Confirmed|Total Deaths|Total Recovered|\n",
            "+------------------+---------------+------------+---------------+\n",
            "|       Maharashtra|    1.5192247E7|      587648|      8145889.0|\n",
            "|        Tamil Nadu|      7847083.0|      111765|      5204625.0|\n",
            "|             Delhi|      5766124.0|      171177|      4205359.0|\n",
            "|    Andhra Pradesh|      2742054.0|       30560|      1367852.0|\n",
            "|         Karnataka|      2733901.0|       51221|      1129397.0|\n",
            "|           Gujarat|      2730710.0|      137790|      1824579.0|\n",
            "|     Uttar Pradesh|      2462456.0|       56959|      1474322.0|\n",
            "|         Telangana|      1644466.0|       17538|      1111473.0|\n",
            "|         Rajasthan|      1622247.0|       32326|      1145351.0|\n",
            "|       West Bengal|      1602230.0|       50953|       989262.0|\n",
            "+------------------+---------------+------------+---------------+\n",
            "only showing top 10 rows\n",
            "\n"
          ]
        }
      ]
    },
    {
      "cell_type": "markdown",
      "source": [
        "6. Trend Analysis: Total new cases per day (National trend)"
      ],
      "metadata": {
        "id": "REfsgTIMVmtP"
      }
    },
    {
      "cell_type": "code",
      "source": [
        "daily_trend = df.groupBy(\"Date\").agg(\n",
        "    sum(\"New cases\").alias(\"Daily New Cases\"),\n",
        "    sum(\"New deaths\").alias(\"Daily Deaths\"),\n",
        "    sum(\"New recovered\").alias(\"Daily Recoveries\")\n",
        ").orderBy(\"Date\")\n",
        "\n",
        "daily_trend.show(10)"
      ],
      "metadata": {
        "colab": {
          "base_uri": "https://localhost:8080/"
        },
        "id": "69LbflOOVqKS",
        "outputId": "bcfd35b6-ca48-4ccd-928f-c0c9b372755b"
      },
      "execution_count": null,
      "outputs": [
        {
          "output_type": "stream",
          "name": "stdout",
          "text": [
            "+----------+---------------+------------+----------------+\n",
            "|      Date|Daily New Cases|Daily Deaths|Daily Recoveries|\n",
            "+----------+---------------+------------+----------------+\n",
            "|2020-01-30|              0|           0|               0|\n",
            "|2020-01-31|              0|           0|               0|\n",
            "|2020-02-01|              1|           0|               0|\n",
            "|2020-02-02|              1|           0|               0|\n",
            "|2020-02-03|              0|           0|               0|\n",
            "|2020-02-04|              0|           0|               0|\n",
            "|2020-02-05|              0|           0|               0|\n",
            "|2020-02-06|              0|           0|               0|\n",
            "|2020-02-07|              0|           0|               0|\n",
            "|2020-02-08|              0|           0|               0|\n",
            "+----------+---------------+------------+----------------+\n",
            "only showing top 10 rows\n",
            "\n"
          ]
        }
      ]
    },
    {
      "cell_type": "markdown",
      "source": [
        "7. Insights"
      ],
      "metadata": {
        "id": "Fcg7Voz_Vw7Z"
      }
    },
    {
      "cell_type": "code",
      "source": [
        "most_affected = summary_df.orderBy(col(\"Total Confirmed\").desc()).first()\n",
        "least_affected = summary_df.orderBy(col(\"Total Confirmed\").asc()).first()\n",
        "\n",
        "print(f\"Most affected state: {most_affected['Name of State / UT']} with {most_affected['Total Confirmed']} cases\")\n",
        "print(f\"Least affected state: {least_affected['Name of State / UT']} with {least_affected['Total Confirmed']} cases\")\n"
      ],
      "metadata": {
        "colab": {
          "base_uri": "https://localhost:8080/"
        },
        "id": "-_XhrLDcV0zA",
        "outputId": "962ad6f4-b505-48b5-f07b-9e3a7247c87e"
      },
      "execution_count": null,
      "outputs": [
        {
          "output_type": "stream",
          "name": "stdout",
          "text": [
            "Most affected state: Maharashtra with 15192247.0 cases\n",
            "Least affected state: Union Territory of Chandigarh with 2.0 cases\n"
          ]
        }
      ]
    },
    {
      "cell_type": "markdown",
      "source": [
        "8. Stop Spark session"
      ],
      "metadata": {
        "id": "-y60g1jdV50q"
      }
    },
    {
      "cell_type": "code",
      "source": [
        "spark.stop()"
      ],
      "metadata": {
        "id": "fQMnPlP-V94g"
      },
      "execution_count": null,
      "outputs": []
    }
  ]
}